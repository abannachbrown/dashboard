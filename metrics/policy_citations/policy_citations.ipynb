{
 "cells": [
  {
   "cell_type": "code",
   "execution_count": 110,
   "metadata": {},
   "outputs": [],
   "source": [
    "import dimcli\n",
    "import json\n",
    "import math\n",
    "import time\n",
    "import pandas as pd\n",
    "import numpy as np"
   ]
  },
  {
   "cell_type": "code",
   "execution_count": 2,
   "metadata": {
    "scrolled": true
   },
   "outputs": [
    {
     "name": "stdout",
     "output_type": "stream",
     "text": [
      "DimCli v0.6.1 - Succesfully connected to <https://app.dimensions.ai> (method: dsl.ini file)\n"
     ]
    }
   ],
   "source": [
    "dimcli.login()"
   ]
  },
  {
   "cell_type": "markdown",
   "metadata": {},
   "source": [
    "#### Search filters"
   ]
  },
  {
   "cell_type": "code",
   "execution_count": 138,
   "metadata": {},
   "outputs": [],
   "source": [
    "years = [year for year in range(2006,2020)]\n",
    "years_search = json.dumps(str(years))\n",
    "FOR_categories = ['11 Medical and Health Sciences']\n",
    "FOR_categories = json.dumps(FOR_categories)\n",
    "charite_grid_id = ['grid.6363.0']"
   ]
  },
  {
   "cell_type": "code",
   "execution_count": 139,
   "metadata": {},
   "outputs": [],
   "source": [
    "def doi_record(grid_ids, years, FOR_categories):\n",
    "    dsl = dimcli.Dsl()\n",
    "    data = dsl.query_iterative(f\"\"\"search publications \n",
    "    where year in {years} and \n",
    "    research_orgs in {json.dumps(grid_ids)} and \n",
    "    type=\"article\" and \n",
    "    journal_lists=\"PubMed\" and\n",
    "    category_for.name in {FOR_categories}\n",
    "    return publications[id + doi + pmid + year]\"\"\")\n",
    "    return data.as_dataframe()"
   ]
  },
  {
   "cell_type": "markdown",
   "metadata": {},
   "source": [
    "#### Get DOIs and dimensions ids for the publications"
   ]
  },
  {
   "cell_type": "code",
   "execution_count": 140,
   "metadata": {
    "scrolled": true
   },
   "outputs": [
    {
     "name": "stdout",
     "output_type": "stream",
     "text": [
      "1000 / 28669\n",
      "2000 / 28669\n",
      "3000 / 28669\n",
      "4000 / 28669\n",
      "5000 / 28669\n",
      "6000 / 28669\n",
      "7000 / 28669\n",
      "8000 / 28669\n",
      "9000 / 28669\n",
      "10000 / 28669\n",
      "11000 / 28669\n",
      "12000 / 28669\n",
      "13000 / 28669\n",
      "14000 / 28669\n",
      "15000 / 28669\n",
      "16000 / 28669\n",
      "17000 / 28669\n",
      "18000 / 28669\n",
      "19000 / 28669\n",
      "20000 / 28669\n",
      "21000 / 28669\n",
      "22000 / 28669\n",
      "23000 / 28669\n",
      "24000 / 28669\n",
      "25000 / 28669\n",
      "26000 / 28669\n",
      "27000 / 28669\n",
      "28000 / 28669\n",
      "28669 / 28669\n"
     ]
    }
   ],
   "source": [
    "doi_result = doi_record(charite_grid_id, years, FOR_categories)"
   ]
  },
  {
   "cell_type": "code",
   "execution_count": 143,
   "metadata": {},
   "outputs": [
    {
     "data": {
      "text/html": [
       "<div>\n",
       "<style scoped>\n",
       "    .dataframe tbody tr th:only-of-type {\n",
       "        vertical-align: middle;\n",
       "    }\n",
       "\n",
       "    .dataframe tbody tr th {\n",
       "        vertical-align: top;\n",
       "    }\n",
       "\n",
       "    .dataframe thead th {\n",
       "        text-align: right;\n",
       "    }\n",
       "</style>\n",
       "<table border=\"1\" class=\"dataframe\">\n",
       "  <thead>\n",
       "    <tr style=\"text-align: right;\">\n",
       "      <th></th>\n",
       "      <th>doi</th>\n",
       "      <th>id</th>\n",
       "      <th>pmid</th>\n",
       "      <th>year</th>\n",
       "    </tr>\n",
       "  </thead>\n",
       "  <tbody>\n",
       "    <tr>\n",
       "      <th>0</th>\n",
       "      <td>10.1002/hep.30925</td>\n",
       "      <td>pub.1120832821</td>\n",
       "      <td>31483871</td>\n",
       "      <td>2019</td>\n",
       "    </tr>\n",
       "    <tr>\n",
       "      <th>1</th>\n",
       "      <td>10.1080/20008198.2019.1568134</td>\n",
       "      <td>pub.1112116251</td>\n",
       "      <td>30788063</td>\n",
       "      <td>2019</td>\n",
       "    </tr>\n",
       "    <tr>\n",
       "      <th>2</th>\n",
       "      <td>10.1111/jch.13787</td>\n",
       "      <td>pub.1123746530</td>\n",
       "      <td>31891443</td>\n",
       "      <td>2019</td>\n",
       "    </tr>\n",
       "    <tr>\n",
       "      <th>3</th>\n",
       "      <td>10.1371/journal.pone.0226843</td>\n",
       "      <td>pub.1123756059</td>\n",
       "      <td>31891612</td>\n",
       "      <td>2019</td>\n",
       "    </tr>\n",
       "    <tr>\n",
       "      <th>4</th>\n",
       "      <td>10.1080/20008198.2019.1694766</td>\n",
       "      <td>pub.1122945616</td>\n",
       "      <td>31807235</td>\n",
       "      <td>2019</td>\n",
       "    </tr>\n",
       "  </tbody>\n",
       "</table>\n",
       "</div>"
      ],
      "text/plain": [
       "                             doi              id      pmid  year\n",
       "0              10.1002/hep.30925  pub.1120832821  31483871  2019\n",
       "1  10.1080/20008198.2019.1568134  pub.1112116251  30788063  2019\n",
       "2              10.1111/jch.13787  pub.1123746530  31891443  2019\n",
       "3   10.1371/journal.pone.0226843  pub.1123756059  31891612  2019\n",
       "4  10.1080/20008198.2019.1694766  pub.1122945616  31807235  2019"
      ]
     },
     "execution_count": 143,
     "metadata": {},
     "output_type": "execute_result"
    }
   ],
   "source": [
    "doi_result.head()"
   ]
  },
  {
   "cell_type": "code",
   "execution_count": 144,
   "metadata": {
    "scrolled": true
   },
   "outputs": [],
   "source": [
    "doi_result.to_csv(\"../../results/Charite_publication_ids_dimensions_2006_19.csv\")"
   ]
  },
  {
   "cell_type": "markdown",
   "metadata": {},
   "source": [
    "#### Check list of publications for citations/references from policy documents"
   ]
  },
  {
   "cell_type": "code",
   "execution_count": 145,
   "metadata": {},
   "outputs": [],
   "source": [
    "DOI_list = pd.read_csv(\"../../results/Charite_publication_ids_dimensions_2006_19.csv\")"
   ]
  },
  {
   "cell_type": "code",
   "execution_count": 146,
   "metadata": {},
   "outputs": [
    {
     "data": {
      "text/plain": [
       "2019    2996\n",
       "2018    2475\n",
       "2017    2462\n",
       "2016    2438\n",
       "2015    2309\n",
       "2014    2101\n",
       "2013    2060\n",
       "2012    2049\n",
       "2011    1902\n",
       "2009    1746\n",
       "2010    1743\n",
       "2008    1606\n",
       "2007    1467\n",
       "2006    1315\n",
       "Name: year, dtype: int64"
      ]
     },
     "execution_count": 146,
     "metadata": {},
     "output_type": "execute_result"
    }
   ],
   "source": [
    "DOI_list.year.value_counts()"
   ]
  },
  {
   "cell_type": "code",
   "execution_count": 147,
   "metadata": {},
   "outputs": [],
   "source": [
    "def policy_citations(year, doi_results_table):\n",
    "    \n",
    "    doi_results_filtered = doi_results_table[doi_results_table.year==year]\n",
    "    doi_results_filtered = doi_results_filtered.reset_index() #otherwise the batch slicing does not work correctly\n",
    "    \n",
    "    policy_results_list = []\n",
    "    batch_size = 300\n",
    "    for idx in range(0, len(doi_results_filtered), batch_size):\n",
    "        ids_batch = doi_results_filtered.loc[idx:idx+batch_size, \"id\"].tolist()\n",
    "        dsl = dimcli.Dsl()\n",
    "        data = dsl.query(f\"\"\"search policy_documents \n",
    "            where publication_ids in {json.dumps(ids_batch)} \n",
    "            return policy_documents[id + publication_ids]\n",
    "            limit 500\"\"\")\n",
    "        time.sleep(1.5)\n",
    "        policy_results_list.append(data.as_dataframe())\n",
    "        \n",
    "    policy_results_list_city = pd.concat(policy_results_list, ignore_index=True)\n",
    "    policy_results_list_city[\"year\"] = year \n",
    "    return policy_results_list_city\n",
    "    "
   ]
  },
  {
   "cell_type": "code",
   "execution_count": 148,
   "metadata": {},
   "outputs": [
    {
     "name": "stdout",
     "output_type": "stream",
     "text": [
      "Returned Policy_documents: 9 (total = 9)\n",
      "Returned Policy_documents: 21 (total = 21)\n",
      "Returned Policy_documents: 26 (total = 26)\n",
      "Returned Policy_documents: 12 (total = 12)\n",
      "Returned Policy_documents: 4 (total = 4)\n",
      "Returned Policy_documents: 9 (total = 9)\n",
      "Returned Policy_documents: 20 (total = 20)\n",
      "Returned Policy_documents: 13 (total = 13)\n",
      "Returned Policy_documents: 22 (total = 22)\n",
      "Returned Policy_documents: 12 (total = 12)\n",
      "Returned Policy_documents: 26 (total = 26)\n",
      "Returned Policy_documents: 18 (total = 18)\n",
      "Returned Policy_documents: 16 (total = 16)\n",
      "Returned Policy_documents: 19 (total = 19)\n",
      "Returned Policy_documents: 13 (total = 13)\n",
      "Returned Policy_documents: 0\n",
      "Returned Policy_documents: 16 (total = 16)\n",
      "Returned Policy_documents: 27 (total = 27)\n",
      "Returned Policy_documents: 13 (total = 13)\n",
      "Returned Policy_documents: 19 (total = 19)\n",
      "Returned Policy_documents: 9 (total = 9)\n",
      "Returned Policy_documents: 7 (total = 7)\n",
      "Returned Policy_documents: 19 (total = 19)\n",
      "Returned Policy_documents: 19 (total = 19)\n",
      "Returned Policy_documents: 9 (total = 9)\n",
      "Returned Policy_documents: 11 (total = 11)\n",
      "Returned Policy_documents: 18 (total = 18)\n",
      "Returned Policy_documents: 5 (total = 5)\n",
      "Returned Policy_documents: 23 (total = 23)\n",
      "Returned Policy_documents: 14 (total = 14)\n",
      "Returned Policy_documents: 9 (total = 9)\n",
      "Returned Policy_documents: 12 (total = 12)\n",
      "Returned Policy_documents: 8 (total = 8)\n",
      "Returned Policy_documents: 17 (total = 17)\n",
      "Returned Policy_documents: 3 (total = 3)\n",
      "Returned Policy_documents: 26 (total = 26)\n",
      "Returned Policy_documents: 19 (total = 19)\n",
      "Returned Policy_documents: 15 (total = 15)\n",
      "Returned Policy_documents: 14 (total = 14)\n",
      "Returned Policy_documents: 8 (total = 8)\n",
      "Returned Policy_documents: 8 (total = 8)\n",
      "Returned Policy_documents: 15 (total = 15)\n",
      "Returned Policy_documents: 8 (total = 8)\n",
      "Returned Policy_documents: 15 (total = 15)\n",
      "Returned Policy_documents: 11 (total = 11)\n",
      "Returned Policy_documents: 23 (total = 23)\n",
      "Returned Policy_documents: 10 (total = 10)\n",
      "Returned Policy_documents: 14 (total = 14)\n",
      "Returned Policy_documents: 8 (total = 8)\n",
      "Returned Policy_documents: 7 (total = 7)\n",
      "Returned Policy_documents: 11 (total = 11)\n",
      "Returned Policy_documents: 14 (total = 14)\n",
      "Returned Policy_documents: 13 (total = 13)\n",
      "Returned Policy_documents: 19 (total = 19)\n",
      "Returned Policy_documents: 19 (total = 19)\n",
      "Returned Policy_documents: 12 (total = 12)\n",
      "Returned Policy_documents: 0\n",
      "Returned Policy_documents: 8 (total = 8)\n",
      "Returned Policy_documents: 8 (total = 8)\n",
      "Returned Policy_documents: 16 (total = 16)\n",
      "Returned Policy_documents: 7 (total = 7)\n",
      "Returned Policy_documents: 5 (total = 5)\n",
      "Returned Policy_documents: 12 (total = 12)\n",
      "Returned Policy_documents: 10 (total = 10)\n",
      "Returned Policy_documents: 6 (total = 6)\n",
      "Returned Policy_documents: 1 (total = 1)\n",
      "Returned Policy_documents: 6 (total = 6)\n",
      "Returned Policy_documents: 2 (total = 2)\n",
      "Returned Policy_documents: 3 (total = 3)\n",
      "Returned Policy_documents: 3 (total = 3)\n",
      "Returned Policy_documents: 6 (total = 6)\n",
      "Returned Policy_documents: 10 (total = 10)\n",
      "Returned Policy_documents: 9 (total = 9)\n",
      "Returned Policy_documents: 0\n",
      "Returned Policy_documents: 6 (total = 6)\n",
      "Returned Policy_documents: 2 (total = 2)\n",
      "Returned Policy_documents: 6 (total = 6)\n",
      "Returned Policy_documents: 0\n",
      "Returned Policy_documents: 5 (total = 5)\n",
      "Returned Policy_documents: 7 (total = 7)\n",
      "Returned Policy_documents: 2 (total = 2)\n",
      "Returned Policy_documents: 3 (total = 3)\n",
      "Returned Policy_documents: 0\n",
      "Returned Policy_documents: 2 (total = 2)\n",
      "Returned Policy_documents: 1 (total = 1)\n",
      "Returned Policy_documents: 1 (total = 1)\n",
      "Returned Policy_documents: 0\n",
      "Returned Policy_documents: 1 (total = 1)\n",
      "Returned Policy_documents: 2 (total = 2)\n",
      "Returned Policy_documents: 2 (total = 2)\n",
      "Returned Policy_documents: 1 (total = 1)\n",
      "Returned Policy_documents: 0\n",
      "Returned Policy_documents: 0\n",
      "Returned Policy_documents: 0\n",
      "Returned Policy_documents: 0\n",
      "Returned Policy_documents: 0\n",
      "Returned Policy_documents: 0\n",
      "Returned Policy_documents: 0\n",
      "Returned Policy_documents: 0\n",
      "Returned Policy_documents: 0\n",
      "Returned Policy_documents: 0\n",
      "Returned Policy_documents: 0\n"
     ]
    }
   ],
   "source": [
    "policy_citation_results_list = []\n",
    "for year in years:\n",
    "    result = policy_citations(year, DOI_list)\n",
    "    policy_citation_results_list.append(result)"
   ]
  },
  {
   "cell_type": "code",
   "execution_count": 149,
   "metadata": {},
   "outputs": [
    {
     "name": "stderr",
     "output_type": "stream",
     "text": [
      "C:\\Users\\riedeln\\AppData\\Local\\Continuum\\anaconda3\\lib\\site-packages\\ipykernel_launcher.py:1: FutureWarning: Sorting because non-concatenation axis is not aligned. A future version\n",
      "of pandas will change to not sort by default.\n",
      "\n",
      "To accept the future behavior, pass 'sort=False'.\n",
      "\n",
      "To retain the current behavior and silence the warning, pass 'sort=True'.\n",
      "\n",
      "  \"\"\"Entry point for launching an IPython kernel.\n"
     ]
    }
   ],
   "source": [
    "policy_citation_results_list = pd.concat(policy_citation_results_list, ignore_index=True)"
   ]
  },
  {
   "cell_type": "code",
   "execution_count": 150,
   "metadata": {},
   "outputs": [
    {
     "data": {
      "text/html": [
       "<div>\n",
       "<style scoped>\n",
       "    .dataframe tbody tr th:only-of-type {\n",
       "        vertical-align: middle;\n",
       "    }\n",
       "\n",
       "    .dataframe tbody tr th {\n",
       "        vertical-align: top;\n",
       "    }\n",
       "\n",
       "    .dataframe thead th {\n",
       "        text-align: right;\n",
       "    }\n",
       "</style>\n",
       "<table border=\"1\" class=\"dataframe\">\n",
       "  <thead>\n",
       "    <tr style=\"text-align: right;\">\n",
       "      <th></th>\n",
       "      <th>id</th>\n",
       "      <th>publication_ids</th>\n",
       "      <th>year</th>\n",
       "    </tr>\n",
       "  </thead>\n",
       "  <tbody>\n",
       "    <tr>\n",
       "      <th>0</th>\n",
       "      <td>policy.656495</td>\n",
       "      <td>[pub.1029215989, pub.1045508740, pub.103031157...</td>\n",
       "      <td>2006</td>\n",
       "    </tr>\n",
       "    <tr>\n",
       "      <th>1</th>\n",
       "      <td>policy.111737</td>\n",
       "      <td>[pub.1042735104, pub.1054136814, pub.101253037...</td>\n",
       "      <td>2006</td>\n",
       "    </tr>\n",
       "    <tr>\n",
       "      <th>2</th>\n",
       "      <td>policy.661632</td>\n",
       "      <td>[pub.1019348531, pub.1016581362, pub.106923434...</td>\n",
       "      <td>2006</td>\n",
       "    </tr>\n",
       "    <tr>\n",
       "      <th>3</th>\n",
       "      <td>policy.4877</td>\n",
       "      <td>[pub.1000789324, pub.1054142273, pub.102468857...</td>\n",
       "      <td>2006</td>\n",
       "    </tr>\n",
       "    <tr>\n",
       "      <th>4</th>\n",
       "      <td>policy.140919</td>\n",
       "      <td>[pub.1023484094, pub.1046338937, pub.106782023...</td>\n",
       "      <td>2006</td>\n",
       "    </tr>\n",
       "  </tbody>\n",
       "</table>\n",
       "</div>"
      ],
      "text/plain": [
       "              id                                    publication_ids  year\n",
       "0  policy.656495  [pub.1029215989, pub.1045508740, pub.103031157...  2006\n",
       "1  policy.111737  [pub.1042735104, pub.1054136814, pub.101253037...  2006\n",
       "2  policy.661632  [pub.1019348531, pub.1016581362, pub.106923434...  2006\n",
       "3    policy.4877  [pub.1000789324, pub.1054142273, pub.102468857...  2006\n",
       "4  policy.140919  [pub.1023484094, pub.1046338937, pub.106782023...  2006"
      ]
     },
     "execution_count": 150,
     "metadata": {},
     "output_type": "execute_result"
    }
   ],
   "source": [
    "policy_citation_results_list.head()"
   ]
  },
  {
   "cell_type": "code",
   "execution_count": 151,
   "metadata": {},
   "outputs": [],
   "source": [
    "policy_citation_results_list.to_csv(\"../../results/policy_citations.csv\")"
   ]
  },
  {
   "cell_type": "code",
   "execution_count": null,
   "metadata": {},
   "outputs": [],
   "source": []
  }
 ],
 "metadata": {
  "kernelspec": {
   "display_name": "Python 3",
   "language": "python",
   "name": "python3"
  },
  "language_info": {
   "codemirror_mode": {
    "name": "ipython",
    "version": 3
   },
   "file_extension": ".py",
   "mimetype": "text/x-python",
   "name": "python",
   "nbconvert_exporter": "python",
   "pygments_lexer": "ipython3",
   "version": "3.6.7"
  }
 },
 "nbformat": 4,
 "nbformat_minor": 2
}
