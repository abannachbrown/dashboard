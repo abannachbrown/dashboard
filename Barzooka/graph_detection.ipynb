{
 "cells": [
  {
   "cell_type": "code",
   "execution_count": 28,
   "metadata": {},
   "outputs": [],
   "source": [
    "import pandas as pd\n",
    "import os\n",
    "import requests\n",
    "\n",
    "os.environ['NO_PROXY'] = '127.0.0.1'"
   ]
  },
  {
   "cell_type": "code",
   "execution_count": 8,
   "metadata": {},
   "outputs": [],
   "source": [
    "from fastai.vision import *\n",
    "ml_path = 'S:/Partner/BIH/QUEST/CENTER/1-Research/Improve My Research Button/Publication Bargraph Classifier/webapp/barzooka'\n",
    "learn = load_learner(path=ml_path, file='export.pkl')"
   ]
  },
  {
   "cell_type": "markdown",
   "metadata": {},
   "source": [
    "### Functions for bar graph detection per PDF"
   ]
  },
  {
   "cell_type": "code",
   "execution_count": 97,
   "metadata": {},
   "outputs": [],
   "source": [
    "import urllib3\n",
    "urllib3.disable_warnings(urllib3.exceptions.InsecureRequestWarning)\n",
    "\n",
    "re_pg = re.compile(r'Index \\d+ out of bounds for length (\\d+)')\n",
    "\n",
    "def req_internal(url):\n",
    "    http = urllib3.PoolManager(cert_reqs='CERT_NONE')\n",
    "    page = http.request('get', url, timeout=120)\n",
    "    return page.data.decode('utf-8')\n",
    "\n",
    "def count_pages(paper_id, year):\n",
    "    \"\"\"cantaloupe iiif server returns the highest page index with an error\n",
    "    if out of range is requested\n",
    "    \"\"\"\n",
    "    url = \"http://127.0.0.1:8182/iiif/2/{}:{}.pdf/full/500,/0/default.jpg?page=1000\"\n",
    "    url = url.format(year, paper_id)\n",
    "    page = req_internal(url)\n",
    "    count = re_pg.findall(page)[0]\n",
    "    return int(count)"
   ]
  },
  {
   "cell_type": "code",
   "execution_count": 98,
   "metadata": {},
   "outputs": [],
   "source": [
    "def detect_graph_types_from_iiif(paper_id, year, learner, debug=False):\n",
    "    \"\"\"Pull images from iiif server\n",
    "    \"\"\"\n",
    "    pages = count_pages(paper_id, year)\n",
    "\n",
    "    url = \"http://127.0.0.1:8182/iiif/2/{}:{}.pdf/full/560,560/0/default.png?page={}\"\n",
    "    images = [open_image(io.BytesIO(requests.get(url.format(year, paper_id, pg)).content)) for pg in range(1, pages+1)]\n",
    "    \n",
    "    classes_detected = detect_graph_types_from_list(images, learner)\n",
    "    classes_detected['paper_id'] = paper_id.replace(\"%2b\", \"/\")\n",
    "    classes_detected['year'] = year\n",
    "    \n",
    "    return classes_detected\n",
    "\n",
    "\n",
    "def detect_graph_types_from_list(images, learner):\n",
    "    \"\"\"Predicts graph types for each image and returns pages with bar graphs\n",
    "    \"\"\"\n",
    "    page_predictions = np.array([predict_graph_type(images[idx], learner) for idx in range(0, len(images))])\n",
    "    bar_pages = np.where(page_predictions == 'bar')[0] + 1 #add 1 to page idx such that page counting starts at 1\n",
    "    pie_pages = np.where(page_predictions == 'pie')[0] + 1\n",
    "    hist_pages = np.where(page_predictions == 'hist')[0] + 1\n",
    "    bardot_pages = np.where(page_predictions == 'bardot')[0] + 1\n",
    "    box_pages = np.where(page_predictions == 'box')[0] + 1\n",
    "    dot_pages = np.where(page_predictions == 'dot')[0] + 1\n",
    "    violin_pages = np.where(page_predictions == 'violin')[0] + 1\n",
    "    positive_pages = hist_pages.tolist() + bardot_pages.tolist() + box_pages.tolist() + dot_pages.tolist() + violin_pages.tolist()\n",
    "    if len(positive_pages) > 0:\n",
    "        positive_pages = list(set(positive_pages)) #remove duplicates and sort\n",
    "        positive_pages.sort()\n",
    "\n",
    "\n",
    "    classes_detected = dict();  \n",
    "    classes_detected['bar'] = len(bar_pages.tolist())\n",
    "    classes_detected['pie'] = len(pie_pages.tolist())\n",
    "    classes_detected['hist'] = len(hist_pages.tolist())\n",
    "    classes_detected['bardot'] = len(bardot_pages.tolist())\n",
    "    classes_detected['box'] = len(box_pages.tolist())\n",
    "    classes_detected['dot'] = len(dot_pages.tolist())\n",
    "    classes_detected['violin'] = len(violin_pages.tolist())\n",
    "\n",
    "    \"\"\"\n",
    "    classes_detected = [len(bar_pages.tolist()),\n",
    "                        len(pie_pages.tolist()),\n",
    "                        len(hist_pages.tolist()),\n",
    "                        len(bardot_pages.tolist()),\n",
    "                        len(box_pages.tolist()),\n",
    "                        len(dot_pages.tolist()),\n",
    "                        len(violin_pages.tolist())                        \n",
    "                       ]\n",
    "    \"\"\"\n",
    "\n",
    "    return classes_detected\n",
    "\n",
    "\n",
    "def predict_graph_type(img, learner):\n",
    "    \"\"\"Use fastai model on each image to predict types of pages\n",
    "    \"\"\"\n",
    "    class_names = {\n",
    "        \"0\": [\"approp\"],\n",
    "        \"1\": [\"bar\"],\n",
    "        \"2\": [\"bardot\"],\n",
    "        \"3\": [\"box\"],\n",
    "        \"4\": [\"dot\"],\n",
    "        \"5\": [\"hist\"],\n",
    "        \"6\": [\"other\"],\n",
    "        \"7\": [\"pie\"],\n",
    "        \"8\": [\"text\"],\n",
    "        \"9\": [\"violin\"]\n",
    "    }\n",
    "    \n",
    "    pred_class,pred_idx,outputs = learner.predict(img)\n",
    "    \n",
    "    if pred_idx.sum().tolist() == 0: #if there is no predicted class \n",
    "        #(=no class over threshold) give out class with highest prediction probability\n",
    "        highest_pred = str(np.argmax(outputs).tolist())\n",
    "        pred_class = class_names[highest_pred]\n",
    "    else: \n",
    "        pred_class = pred_class.obj #extract class name as text\n",
    "        \n",
    "    return(pred_class)\n",
    "\n"
   ]
  },
  {
   "cell_type": "code",
   "execution_count": 99,
   "metadata": {},
   "outputs": [
    {
     "data": {
      "text/plain": [
       "{'bar': 1,\n",
       " 'pie': 0,\n",
       " 'hist': 0,\n",
       " 'bardot': 0,\n",
       " 'box': 0,\n",
       " 'dot': 0,\n",
       " 'violin': 0,\n",
       " 'paper_id': '10.1371/journal.pone.0148798',\n",
       " 'year': '2016'}"
      ]
     },
     "execution_count": 99,
     "metadata": {},
     "output_type": "execute_result"
    }
   ],
   "source": [
    "paper_id = '10.1371%2bjournal.pone.0148798'\n",
    "year = '2016'\n",
    "detect_graph_types_from_iiif(paper_id, year, learn)"
   ]
  },
  {
   "cell_type": "markdown",
   "metadata": {},
   "source": [
    "### Predict number of pages with each graph type for all PDFs"
   ]
  },
  {
   "cell_type": "code",
   "execution_count": 62,
   "metadata": {},
   "outputs": [],
   "source": [
    "pdf_folder = 'C:\\Datenablage\\charite_dashboard\\PDFs'"
   ]
  },
  {
   "cell_type": "code",
   "execution_count": 105,
   "metadata": {},
   "outputs": [],
   "source": [
    "paper_list = []\n",
    "for root, dirs, files in os.walk(pdf_folder):\n",
    "    for filename in files:\n",
    "        paper_dict = {\"paper_id\": filename[:-4].replace(\"+\", \"%2b\"),\n",
    "               \"year\": root[-4:]}\n",
    "        paper_list.append(paper_dict)\n",
    "        \n",
    "\n",
    "paper_table = pd.DataFrame(paper_list)  "
   ]
  },
  {
   "cell_type": "code",
   "execution_count": 106,
   "metadata": {},
   "outputs": [
    {
     "data": {
      "text/html": [
       "<div>\n",
       "<style scoped>\n",
       "    .dataframe tbody tr th:only-of-type {\n",
       "        vertical-align: middle;\n",
       "    }\n",
       "\n",
       "    .dataframe tbody tr th {\n",
       "        vertical-align: top;\n",
       "    }\n",
       "\n",
       "    .dataframe thead th {\n",
       "        text-align: right;\n",
       "    }\n",
       "</style>\n",
       "<table border=\"1\" class=\"dataframe\">\n",
       "  <thead>\n",
       "    <tr style=\"text-align: right;\">\n",
       "      <th></th>\n",
       "      <th>paper_id</th>\n",
       "      <th>year</th>\n",
       "    </tr>\n",
       "  </thead>\n",
       "  <tbody>\n",
       "    <tr>\n",
       "      <th>0</th>\n",
       "      <td>10.1001%2bjamaoncol.2015.0830</td>\n",
       "      <td>2015</td>\n",
       "    </tr>\n",
       "    <tr>\n",
       "      <th>1</th>\n",
       "      <td>10.1002%2bacn3.189</td>\n",
       "      <td>2015</td>\n",
       "    </tr>\n",
       "    <tr>\n",
       "      <th>2</th>\n",
       "      <td>10.1002%2bacr.22453</td>\n",
       "      <td>2015</td>\n",
       "    </tr>\n",
       "    <tr>\n",
       "      <th>3</th>\n",
       "      <td>10.1002%2badhm.201500503</td>\n",
       "      <td>2015</td>\n",
       "    </tr>\n",
       "    <tr>\n",
       "      <th>4</th>\n",
       "      <td>10.1002%2bajh.23952</td>\n",
       "      <td>2015</td>\n",
       "    </tr>\n",
       "  </tbody>\n",
       "</table>\n",
       "</div>"
      ],
      "text/plain": [
       "                        paper_id  year\n",
       "0  10.1001%2bjamaoncol.2015.0830  2015\n",
       "1             10.1002%2bacn3.189  2015\n",
       "2            10.1002%2bacr.22453  2015\n",
       "3       10.1002%2badhm.201500503  2015\n",
       "4            10.1002%2bajh.23952  2015"
      ]
     },
     "execution_count": 106,
     "metadata": {},
     "output_type": "execute_result"
    }
   ],
   "source": [
    "paper_table.head()"
   ]
  },
  {
   "cell_type": "code",
   "execution_count": 116,
   "metadata": {},
   "outputs": [
    {
     "name": "stdout",
     "output_type": "stream",
     "text": [
      "10.1001%2bjamaoncol.2015.0830 2015\n",
      "10.1002%2bacn3.189 2015\n",
      "10.1002%2bacr.22453 2015\n",
      "10.1002%2badhm.201500503 2015\n",
      "10.1002%2bajh.23952 2015\n"
     ]
    }
   ],
   "source": [
    "barzooka_results_list = [] \n",
    "for index, row in paper_table.iterrows():\n",
    "    print(row['paper_id'], row['year'])\n",
    "    barzooka_result = detect_graph_types_from_iiif(row['paper_id'], row['year'], learn)\n",
    "    barzooka_results_list.append(barzooka_result)\n",
    "    \n",
    "barzooka_results = pd.DataFrame(barzooka_results_list)  \n",
    "barzooka_results.to_csv(\"..\\\\results\\\\Barzooka.csv\")"
   ]
  }
 ],
 "metadata": {
  "kernelspec": {
   "display_name": "Python 3",
   "language": "python",
   "name": "python3"
  },
  "language_info": {
   "codemirror_mode": {
    "name": "ipython",
    "version": 3
   },
   "file_extension": ".py",
   "mimetype": "text/x-python",
   "name": "python",
   "nbconvert_exporter": "python",
   "pygments_lexer": "ipython3",
   "version": "3.6.7"
  }
 },
 "nbformat": 4,
 "nbformat_minor": 2
}
